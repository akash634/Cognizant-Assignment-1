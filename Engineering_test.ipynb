{
 "cells": [
  {
   "cell_type": "code",
   "execution_count": 1,
   "metadata": {},
   "outputs": [
    {
     "name": "stdout",
     "output_type": "stream",
     "text": [
      "Enter the zip file directory \n",
      "test.zip\n",
      "Extracting all the files.....\n",
      "Done\n"
     ]
    },
    {
     "data": {
      "text/plain": [
       "['Asia Prod 1.csv', 'Asia Prod 2.csv', 'Asia Prod 3.csv', 'NA Prod.csv']"
      ]
     },
     "execution_count": 1,
     "metadata": {},
     "output_type": "execute_result"
    }
   ],
   "source": [
    "#1.\tThe  Zip folder should contain a file name Combined.csv.\n",
    "#2.\tNeed to remove the .extension from the file and files should be in csv format in the zip folder.\n",
    "\n",
    "#Unziping the files and putting the file name in a list\n",
    "from zipfile import ZipFile\n",
    "\n",
    "input_file_name= input(\"Enter the zip file directory \\n\") # Example\"D:/Engineering_test.zip\"\n",
    "\n",
    "file_name= input_file_name   \n",
    "with ZipFile(file_name,'r') as zip:\n",
    "\n",
    "#Maintaining the list of files in the zip file    \n",
    "    File_list=zip.namelist()\n",
    "\n",
    "#Unziping the zip folder.\n",
    "    print(\"Extracting all the files.....\")\n",
    "    zip.extractall()\n",
    "    print(\"Done\")\n",
    "\n",
    "File_list\n"
   ]
  },
  {
   "cell_type": "code",
   "execution_count": 2,
   "metadata": {},
   "outputs": [
    {
     "name": "stdout",
     "output_type": "stream",
     "text": [
      "File created sucessfully\n"
     ]
    }
   ],
   "source": [
    "import pandas as pd\n",
    "import re\n",
    "appended_data = []\n",
    "#Traversing through the list\n",
    "for n in range(0,len(File_list)):\n",
    "    #Removing the numeric values from file name\n",
    "    string1 = File_list[n].split(\".\")[0]\n",
    "    res1 = \"\".join(filter(lambda x: not x.isdigit(), string1))\n",
    "    #reading data from given csv files\n",
    "    nba=pd.read_csv(str(File_list[n]))\n",
    "    nba[\"Environment\"]=str(res1)\n",
    "    Each_frame=nba[[\"Source IP\",\"Environment\"]]\n",
    "    appended_data.append(Each_frame)\n",
    "appended_data = pd.concat(appended_data).drop_duplicates()\n",
    "appended_data.to_csv('Combined.csv',index=False)\n",
    "print(\"File created sucessfully\")\n"
   ]
  },
  {
   "cell_type": "code",
   "execution_count": 14,
   "metadata": {},
   "outputs": [],
   "source": [
    "#Again reziping the files\n",
    "from zipfile import ZipFile\n",
    "with ZipFile(file_name,'w') as zip:\n",
    "    for file in File_list:\n",
    "        zip.write(file)"
   ]
  }
 ],
 "metadata": {
  "kernelspec": {
   "display_name": "Python 3",
   "language": "python",
   "name": "python3"
  },
  "language_info": {
   "codemirror_mode": {
    "name": "ipython",
    "version": 3
   },
   "file_extension": ".py",
   "mimetype": "text/x-python",
   "name": "python",
   "nbconvert_exporter": "python",
   "pygments_lexer": "ipython3",
   "version": "3.8.8"
  }
 },
 "nbformat": 4,
 "nbformat_minor": 4
}
